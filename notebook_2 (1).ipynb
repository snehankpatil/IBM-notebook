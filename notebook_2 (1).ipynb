{
 "cells": [
  {
   "cell_type": "markdown",
   "metadata": {
    "collapsed": true
   },
   "source": [
    "# My Jupyter Notebook on IBM Watson Studio"
   ]
  },
  {
   "cell_type": "markdown",
   "metadata": {},
   "source": [
    "#### Snehank Patil\n",
    "Desired occupation:Senior Data Scientist At Flipkart"
   ]
  },
  {
   "cell_type": "markdown",
   "metadata": {},
   "source": [
    "*I am interested in data science because this field has huge potential of growth.I have huge interest in this field. This is also supplimentory of the buiseness intelligence.\n",
    "It can grow very well.*"
   ]
  },
  {
   "cell_type": "markdown",
   "metadata": {},
   "source": [
    "### Multiplication of the integers"
   ]
  },
  {
   "cell_type": "code",
   "execution_count": 3,
   "metadata": {},
   "outputs": [
    {
     "data": {
      "text/plain": [
       "100"
      ]
     },
     "execution_count": 3,
     "metadata": {},
     "output_type": "execute_result"
    }
   ],
   "source": [
    "def mul(a,b):\n",
    "    return(a*b)\n",
    "mul(10,10)"
   ]
  },
  {
   "cell_type": "markdown",
   "metadata": {},
   "source": [
    "### Great defenders\n",
    "1. Maldini\n",
    "1. Ramos \n",
    "1. Romario\n",
    "\n",
    "### Great GK\n",
    "* khan\n",
    "* Martinaze\n",
    "* Buffone\n",
    "\n",
    "### The greatest of all time\n",
    ">THe conqueror of the football.Champion of the world himself Lionel Messi.He has most ballen d or awrd\n",
    "\n",
    "### Picture of Day\n",
    "\n",
    "![Messi](https://encrypted-tbn0.gstatic.com/images?q=tbn:ANd9GcRZJTWFOFFUkIpDayzRnucv1fiVOspYwfLOft06HY4Gaw&s)"
   ]
  },
  {
   "cell_type": "code",
   "execution_count": null,
   "metadata": {},
   "outputs": [],
   "source": []
  }
 ],
 "metadata": {
  "kernelspec": {
   "display_name": "Python 3.10",
   "language": "python",
   "name": "python3"
  },
  "language_info": {
   "codemirror_mode": {
    "name": "ipython",
    "version": 3
   },
   "file_extension": ".py",
   "mimetype": "text/x-python",
   "name": "python",
   "nbconvert_exporter": "python",
   "pygments_lexer": "ipython3",
   "version": "3.10.9"
  }
 },
 "nbformat": 4,
 "nbformat_minor": 1
}
