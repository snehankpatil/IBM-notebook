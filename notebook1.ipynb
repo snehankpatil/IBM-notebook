{
 "cells": [
  {
   "cell_type": "markdown",
   "id": "352e3a15",
   "metadata": {},
   "source": [
    "# Data Science Tools and Ecosystem"
   ]
  },
  {
   "cell_type": "markdown",
   "id": "ce82b7b7",
   "metadata": {},
   "source": [
    "In This notebook,Data Science Tools and Ecosystem are summarized"
   ]
  },
  {
   "cell_type": "markdown",
   "id": "6115cb87",
   "metadata": {},
   "source": [
    "### Objectives:\n",
    "  "
   ]
  },
  {
   "cell_type": "markdown",
   "id": "41f35227",
   "metadata": {},
   "source": [
    "  - Machine learning\n",
    "  - Modeling\n",
    "  - Statistics"
   ]
  },
  {
   "cell_type": "markdown",
   "id": "80622760",
   "metadata": {},
   "source": [
    "Some of the popular languages that Data Scientists use are:\n",
    "1. python\n",
    "1. R\n",
    "1. julia\n",
    "1. java"
   ]
  },
  {
   "cell_type": "markdown",
   "id": "6443a2ef",
   "metadata": {},
   "source": [
    "Some of the commonly used libraries used by Data Scientist include:\n",
    "\n",
    "1. pandas\n",
    "1. numpy\n",
    "1. matplotlib"
   ]
  },
  {
   "cell_type": "code",
   "execution_count": 5,
   "id": "40b743fc",
   "metadata": {},
   "outputs": [
    {
     "name": "stdout",
     "output_type": "stream",
     "text": [
      "Data Science Tools\n"
     ]
    },
    {
     "data": {
      "text/plain": [
       "0    Apache Spark.\n",
       "1           BigML.\n",
       "2          MATLAB.\n",
       "3           Excel.\n",
       "4         ggplot2.\n",
       "Name: Data Science Tools, dtype: object"
      ]
     },
     "execution_count": 5,
     "metadata": {},
     "output_type": "execute_result"
    }
   ],
   "source": [
    "import pandas as pd\n",
    "  \n",
    "  \n",
    "\n",
    "df = pd.DataFrame({'name': ['Akash', 'Ayush', 'Ashish',\n",
    "                            'Diksha', 'Shivani'],\n",
    "                     \n",
    "                   'Age': [21, 25, 23, 22, 18],\n",
    "                     \n",
    "                   'Data Science Tools': ['Apache Spark.','BigML.','MATLAB.','Excel.','ggplot2.']})\n",
    "  \n",
    "print(\"Data Science Tools\")\n",
    "df['Data Science Tools']"
   ]
  },
  {
   "cell_type": "markdown",
   "id": "7d64cea2",
   "metadata": {},
   "source": [
    "Below are a few example of evaluting arithmetic expression in Python"
   ]
  },
  {
   "cell_type": "code",
   "execution_count": 6,
   "id": "88fc4408",
   "metadata": {},
   "outputs": [],
   "source": [
    "x=10+10"
   ]
  },
  {
   "cell_type": "markdown",
   "id": "5efc411b",
   "metadata": {},
   "source": [
    "this is simple arithmetic expression to multiply then addd integers"
   ]
  },
  {
   "cell_type": "code",
   "execution_count": 8,
   "id": "fb022ce4",
   "metadata": {},
   "outputs": [],
   "source": [
    "y=3*4+5"
   ]
  },
  {
   "cell_type": "markdown",
   "id": "11b763ca",
   "metadata": {},
   "source": [
    "this will convert 200 minutes to hours by dividing by 60"
   ]
  },
  {
   "cell_type": "code",
   "execution_count": 9,
   "id": "20395144",
   "metadata": {},
   "outputs": [],
   "source": [
    "z=200/60"
   ]
  },
  {
   "cell_type": "markdown",
   "id": "ec15f8a5",
   "metadata": {},
   "source": [
    "## Author  \n",
    "\n",
    "    name:Snehank Milind Patil"
   ]
  },
  {
   "cell_type": "markdown",
   "id": "322f7dec",
   "metadata": {},
   "source": []
  }
 ],
 "metadata": {
  "kernelspec": {
   "display_name": "Python 3",
   "language": "python",
   "name": "python3"
  },
  "language_info": {
   "codemirror_mode": {
    "name": "ipython",
    "version": 3
   },
   "file_extension": ".py",
   "mimetype": "text/x-python",
   "name": "python",
   "nbconvert_exporter": "python",
   "pygments_lexer": "ipython3",
   "version": "3.8.8"
  }
 },
 "nbformat": 4,
 "nbformat_minor": 5
}
